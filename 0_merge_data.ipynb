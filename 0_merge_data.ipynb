{
 "cells": [
  {
   "cell_type": "code",
   "execution_count": 1,
   "id": "09b4e301",
   "metadata": {},
   "outputs": [],
   "source": [
    "import os\n",
    "import pandas as pd\n",
    "import glob"
   ]
  },
  {
   "cell_type": "code",
   "execution_count": 3,
   "id": "d076df7c",
   "metadata": {},
   "outputs": [],
   "source": [
    "DIALOGS_DATA_PATH = \"D:/data/dialogs\"\n",
    "DIALOGS_META_DATA_PATH = \"D:/data/dialogs_meta\"\n",
    "\n",
    "MERGED_DATA_PATH = \"D:/data/merged_data\""
   ]
  },
  {
   "cell_type": "code",
   "execution_count": 4,
   "id": "65a13565",
   "metadata": {},
   "outputs": [
    {
     "name": "stderr",
     "output_type": "stream",
     "text": [
      "\"ls\" ­Ґ пў«пҐвбп ў­гваҐ­­Ґ© Ё«Ё ў­Ґи­Ґ©\n",
      "Є®¬ ­¤®©, ЁбЇ®«­пҐ¬®© Їа®Ја ¬¬®© Ё«Ё Ї ЄҐв­л¬ д ©«®¬.\n"
     ]
    }
   ],
   "source": [
    "!ls D:/data/"
   ]
  },
  {
   "cell_type": "code",
   "execution_count": 5,
   "id": "6d0eddab",
   "metadata": {},
   "outputs": [],
   "source": [
    "dialogs_data_files = glob.glob(f\"{DIALOGS_DATA_PATH}/*.csv\")\n",
    "dialogs_meta_data_files = glob.glob(f\"{DIALOGS_META_DATA_PATH}/*.json\")"
   ]
  },
  {
   "cell_type": "markdown",
   "id": "78cc73b6",
   "metadata": {},
   "source": [
    "## merging all dialogs_data (csv files) into one"
   ]
  },
  {
   "cell_type": "code",
   "execution_count": 6,
   "id": "4d582c3b",
   "metadata": {},
   "outputs": [],
   "source": [
    "df_array = []\n",
    "\n",
    "for d in dialogs_data_files:\n",
    "    local_df = pd.read_csv(d)\n",
    "    local_df[\"dialog_id\"] = os.path.basename(d).split(\".\")[0]\n",
    "    \n",
    "    df_array.append(local_df)\n",
    "    \n",
    "df = pd.concat(df_array, ignore_index=True)"
   ]
  },
  {
   "cell_type": "code",
   "execution_count": 7,
   "id": "96e470a8",
   "metadata": {},
   "outputs": [],
   "source": [
    "if not os.path.isdir(MERGED_DATA_PATH):\n",
    "    os.mkdir(MERGED_DATA_PATH)\n",
    "\n",
    "if \"Unnamed: 0\" in df:\n",
    "    df = df.drop([\"Unnamed: 0\"], axis=True)\n",
    "    \n",
    "df.to_csv(f\"{MERGED_DATA_PATH}/dialogs_data_all.csv\", index=False)"
   ]
  },
  {
   "cell_type": "code",
   "execution_count": 8,
   "id": "16776850",
   "metadata": {},
   "outputs": [
    {
     "data": {
      "text/plain": [
       "(1519343, 9)"
      ]
     },
     "execution_count": 8,
     "metadata": {},
     "output_type": "execute_result"
    }
   ],
   "source": [
    "df.shape"
   ]
  },
  {
   "cell_type": "code",
   "execution_count": 9,
   "id": "4672e8ce",
   "metadata": {},
   "outputs": [
    {
     "data": {
      "text/html": [
       "<div>\n",
       "<style scoped>\n",
       "    .dataframe tbody tr th:only-of-type {\n",
       "        vertical-align: middle;\n",
       "    }\n",
       "\n",
       "    .dataframe tbody tr th {\n",
       "        vertical-align: top;\n",
       "    }\n",
       "\n",
       "    .dataframe thead th {\n",
       "        text-align: right;\n",
       "    }\n",
       "</style>\n",
       "<table border=\"1\" class=\"dataframe\">\n",
       "  <thead>\n",
       "    <tr style=\"text-align: right;\">\n",
       "      <th></th>\n",
       "      <th>id</th>\n",
       "      <th>date</th>\n",
       "      <th>from_id</th>\n",
       "      <th>to_id</th>\n",
       "      <th>fwd_from</th>\n",
       "      <th>message</th>\n",
       "      <th>type</th>\n",
       "      <th>duration</th>\n",
       "      <th>dialog_id</th>\n",
       "    </tr>\n",
       "  </thead>\n",
       "  <tbody>\n",
       "    <tr>\n",
       "      <th>0</th>\n",
       "      <td>15602</td>\n",
       "      <td>2022-04-06 10:23:25+00:00</td>\n",
       "      <td>NaN</td>\n",
       "      <td>PeerChannel(channel_id=1011817559)</td>\n",
       "      <td>NaN</td>\n",
       "      <td>Російський міношукач «Коршун» став трофеєм вій...</td>\n",
       "      <td>photo</td>\n",
       "      <td>NaN</td>\n",
       "      <td>-1001011817559</td>\n",
       "    </tr>\n",
       "    <tr>\n",
       "      <th>1</th>\n",
       "      <td>15601</td>\n",
       "      <td>2022-04-06 09:11:01+00:00</td>\n",
       "      <td>NaN</td>\n",
       "      <td>PeerChannel(channel_id=1011817559)</td>\n",
       "      <td>NaN</td>\n",
       "      <td>🇺🇦Українські десантники знищили три танки і па...</td>\n",
       "      <td>photo</td>\n",
       "      <td>NaN</td>\n",
       "      <td>-1001011817559</td>\n",
       "    </tr>\n",
       "    <tr>\n",
       "      <th>2</th>\n",
       "      <td>15600</td>\n",
       "      <td>2022-04-06 08:13:30+00:00</td>\n",
       "      <td>NaN</td>\n",
       "      <td>PeerChannel(channel_id=1011817559)</td>\n",
       "      <td>NaN</td>\n",
       "      <td>🇺🇦Бійці ВСП захопили російську САУ «Акація» та...</td>\n",
       "      <td>photo</td>\n",
       "      <td>NaN</td>\n",
       "      <td>-1001011817559</td>\n",
       "    </tr>\n",
       "    <tr>\n",
       "      <th>3</th>\n",
       "      <td>15599</td>\n",
       "      <td>2022-04-06 07:06:50+00:00</td>\n",
       "      <td>NaN</td>\n",
       "      <td>PeerChannel(channel_id=1011817559)</td>\n",
       "      <td>NaN</td>\n",
       "      <td>🇺🇸США надають 🇺🇦Україні додаткові 100 млн дола...</td>\n",
       "      <td>photo</td>\n",
       "      <td>NaN</td>\n",
       "      <td>-1001011817559</td>\n",
       "    </tr>\n",
       "    <tr>\n",
       "      <th>4</th>\n",
       "      <td>15598</td>\n",
       "      <td>2022-04-06 06:41:10+00:00</td>\n",
       "      <td>NaN</td>\n",
       "      <td>PeerChannel(channel_id=1011817559)</td>\n",
       "      <td>NaN</td>\n",
       "      <td>NaN</td>\n",
       "      <td>photo</td>\n",
       "      <td>NaN</td>\n",
       "      <td>-1001011817559</td>\n",
       "    </tr>\n",
       "    <tr>\n",
       "      <th>5</th>\n",
       "      <td>15597</td>\n",
       "      <td>2022-04-06 06:41:09+00:00</td>\n",
       "      <td>NaN</td>\n",
       "      <td>PeerChannel(channel_id=1011817559)</td>\n",
       "      <td>NaN</td>\n",
       "      <td>NaN</td>\n",
       "      <td>photo</td>\n",
       "      <td>NaN</td>\n",
       "      <td>-1001011817559</td>\n",
       "    </tr>\n",
       "    <tr>\n",
       "      <th>6</th>\n",
       "      <td>15596</td>\n",
       "      <td>2022-04-06 06:41:09+00:00</td>\n",
       "      <td>NaN</td>\n",
       "      <td>PeerChannel(channel_id=1011817559)</td>\n",
       "      <td>NaN</td>\n",
       "      <td>🇺🇦 Приблизна ситуація на фронті станом на поча...</td>\n",
       "      <td>photo</td>\n",
       "      <td>NaN</td>\n",
       "      <td>-1001011817559</td>\n",
       "    </tr>\n",
       "    <tr>\n",
       "      <th>7</th>\n",
       "      <td>15595</td>\n",
       "      <td>2022-04-06 06:16:30+00:00</td>\n",
       "      <td>NaN</td>\n",
       "      <td>PeerChannel(channel_id=1011817559)</td>\n",
       "      <td>NaN</td>\n",
       "      <td>🇺🇦Українські сили вибили росіян з трьох населе...</td>\n",
       "      <td>photo</td>\n",
       "      <td>NaN</td>\n",
       "      <td>-1001011817559</td>\n",
       "    </tr>\n",
       "    <tr>\n",
       "      <th>8</th>\n",
       "      <td>15594</td>\n",
       "      <td>2022-04-05 20:08:40+00:00</td>\n",
       "      <td>NaN</td>\n",
       "      <td>PeerChannel(channel_id=1011817559)</td>\n",
       "      <td>NaN</td>\n",
       "      <td>Підрозділи Нацгвардії України взяли під охорон...</td>\n",
       "      <td>photo</td>\n",
       "      <td>NaN</td>\n",
       "      <td>-1001011817559</td>\n",
       "    </tr>\n",
       "    <tr>\n",
       "      <th>9</th>\n",
       "      <td>15593</td>\n",
       "      <td>2022-04-05 19:25:30+00:00</td>\n",
       "      <td>NaN</td>\n",
       "      <td>PeerChannel(channel_id=1011817559)</td>\n",
       "      <td>NaN</td>\n",
       "      <td>На Донеччині прикордонники збили російський “О...</td>\n",
       "      <td>photo</td>\n",
       "      <td>NaN</td>\n",
       "      <td>-1001011817559</td>\n",
       "    </tr>\n",
       "  </tbody>\n",
       "</table>\n",
       "</div>"
      ],
      "text/plain": [
       "      id                       date from_id  \\\n",
       "0  15602  2022-04-06 10:23:25+00:00     NaN   \n",
       "1  15601  2022-04-06 09:11:01+00:00     NaN   \n",
       "2  15600  2022-04-06 08:13:30+00:00     NaN   \n",
       "3  15599  2022-04-06 07:06:50+00:00     NaN   \n",
       "4  15598  2022-04-06 06:41:10+00:00     NaN   \n",
       "5  15597  2022-04-06 06:41:09+00:00     NaN   \n",
       "6  15596  2022-04-06 06:41:09+00:00     NaN   \n",
       "7  15595  2022-04-06 06:16:30+00:00     NaN   \n",
       "8  15594  2022-04-05 20:08:40+00:00     NaN   \n",
       "9  15593  2022-04-05 19:25:30+00:00     NaN   \n",
       "\n",
       "                                to_id fwd_from  \\\n",
       "0  PeerChannel(channel_id=1011817559)      NaN   \n",
       "1  PeerChannel(channel_id=1011817559)      NaN   \n",
       "2  PeerChannel(channel_id=1011817559)      NaN   \n",
       "3  PeerChannel(channel_id=1011817559)      NaN   \n",
       "4  PeerChannel(channel_id=1011817559)      NaN   \n",
       "5  PeerChannel(channel_id=1011817559)      NaN   \n",
       "6  PeerChannel(channel_id=1011817559)      NaN   \n",
       "7  PeerChannel(channel_id=1011817559)      NaN   \n",
       "8  PeerChannel(channel_id=1011817559)      NaN   \n",
       "9  PeerChannel(channel_id=1011817559)      NaN   \n",
       "\n",
       "                                             message   type  duration  \\\n",
       "0  Російський міношукач «Коршун» став трофеєм вій...  photo       NaN   \n",
       "1  🇺🇦Українські десантники знищили три танки і па...  photo       NaN   \n",
       "2  🇺🇦Бійці ВСП захопили російську САУ «Акація» та...  photo       NaN   \n",
       "3  🇺🇸США надають 🇺🇦Україні додаткові 100 млн дола...  photo       NaN   \n",
       "4                                                NaN  photo       NaN   \n",
       "5                                                NaN  photo       NaN   \n",
       "6  🇺🇦 Приблизна ситуація на фронті станом на поча...  photo       NaN   \n",
       "7  🇺🇦Українські сили вибили росіян з трьох населе...  photo       NaN   \n",
       "8  Підрозділи Нацгвардії України взяли під охорон...  photo       NaN   \n",
       "9  На Донеччині прикордонники збили російський “О...  photo       NaN   \n",
       "\n",
       "        dialog_id  \n",
       "0  -1001011817559  \n",
       "1  -1001011817559  \n",
       "2  -1001011817559  \n",
       "3  -1001011817559  \n",
       "4  -1001011817559  \n",
       "5  -1001011817559  \n",
       "6  -1001011817559  \n",
       "7  -1001011817559  \n",
       "8  -1001011817559  \n",
       "9  -1001011817559  "
      ]
     },
     "execution_count": 9,
     "metadata": {},
     "output_type": "execute_result"
    }
   ],
   "source": [
    "df.head(10)"
   ]
  },
  {
   "cell_type": "code",
   "execution_count": 10,
   "id": "d1bd96f3",
   "metadata": {},
   "outputs": [
    {
     "data": {
      "text/plain": [
       "('2016-02-11 17:03:08+00:00', '2022-04-06 15:00:40+00:00')"
      ]
     },
     "execution_count": 10,
     "metadata": {},
     "output_type": "execute_result"
    }
   ],
   "source": [
    "min(df[\"date\"]),max(df[\"date\"])"
   ]
  },
  {
   "cell_type": "code",
   "execution_count": 11,
   "id": "2a1aafab",
   "metadata": {},
   "outputs": [
    {
     "data": {
      "text/plain": [
       "type\n",
       "photo      496947\n",
       "sticker     28783\n",
       "text       872226\n",
       "video      102912\n",
       "voice       18475\n",
       "Name: type, dtype: int64"
      ]
     },
     "execution_count": 11,
     "metadata": {},
     "output_type": "execute_result"
    }
   ],
   "source": [
    "df.groupby([\"type\"])[\"type\"].count()"
   ]
  },
  {
   "cell_type": "code",
   "execution_count": 12,
   "id": "66a677a9",
   "metadata": {},
   "outputs": [
    {
     "data": {
      "text/plain": [
       "type\n",
       "photo      0.000000e+00\n",
       "sticker    0.000000e+00\n",
       "text       0.000000e+00\n",
       "video      4.300139e+09\n",
       "voice      4.588690e+05\n",
       "Name: duration, dtype: float64"
      ]
     },
     "execution_count": 12,
     "metadata": {},
     "output_type": "execute_result"
    }
   ],
   "source": [
    "df.groupby([\"type\"])[\"duration\"].sum()"
   ]
  },
  {
   "cell_type": "markdown",
   "id": "e24460df",
   "metadata": {},
   "source": [
    "## merging all dialogs_meta_data (json files) into one"
   ]
  },
  {
   "cell_type": "code",
   "execution_count": 13,
   "id": "3cecdc78",
   "metadata": {},
   "outputs": [],
   "source": [
    "df_array = []\n",
    "\n",
    "for d in dialogs_meta_data_files:\n",
    "    local_df = pd.read_json(d)\n",
    "    local_df = local_df.rename({'id': 'dialog_id'}, axis=1)\n",
    "    df_array.append(local_df)\n",
    "    \n",
    "df_meta = pd.concat(df_array, ignore_index=True)"
   ]
  },
  {
   "cell_type": "code",
   "execution_count": 14,
   "id": "6b458ce5",
   "metadata": {},
   "outputs": [],
   "source": [
    "df_meta.to_csv(f\"{MERGED_DATA_PATH}/dialogs_users_all.csv\", index=False)"
   ]
  },
  {
   "cell_type": "code",
   "execution_count": 15,
   "id": "313b23f0",
   "metadata": {},
   "outputs": [
    {
     "data": {
      "text/plain": [
       "(8211, 4)"
      ]
     },
     "execution_count": 15,
     "metadata": {},
     "output_type": "execute_result"
    }
   ],
   "source": [
    "df_meta.shape"
   ]
  },
  {
   "cell_type": "code",
   "execution_count": 16,
   "id": "ef6f51b9",
   "metadata": {},
   "outputs": [
    {
     "data": {
      "text/html": [
       "<div>\n",
       "<style scoped>\n",
       "    .dataframe tbody tr th:only-of-type {\n",
       "        vertical-align: middle;\n",
       "    }\n",
       "\n",
       "    .dataframe tbody tr th {\n",
       "        vertical-align: top;\n",
       "    }\n",
       "\n",
       "    .dataframe thead th {\n",
       "        text-align: right;\n",
       "    }\n",
       "</style>\n",
       "<table border=\"1\" class=\"dataframe\">\n",
       "  <thead>\n",
       "    <tr style=\"text-align: right;\">\n",
       "      <th></th>\n",
       "      <th>dialog_id</th>\n",
       "      <th>name</th>\n",
       "      <th>type</th>\n",
       "      <th>users</th>\n",
       "    </tr>\n",
       "  </thead>\n",
       "  <tbody>\n",
       "    <tr>\n",
       "      <th>0</th>\n",
       "      <td>-1001124109395</td>\n",
       "      <td>Філіал КМЦ</td>\n",
       "      <td>Group</td>\n",
       "      <td>{'user_id': 426175316, 'first_name': 'а̑̈', 'l...</td>\n",
       "    </tr>\n",
       "    <tr>\n",
       "      <th>1</th>\n",
       "      <td>-1001124109395</td>\n",
       "      <td>Філіал КМЦ</td>\n",
       "      <td>Group</td>\n",
       "      <td>{'user_id': 375847882, 'first_name': 'RatHive'...</td>\n",
       "    </tr>\n",
       "    <tr>\n",
       "      <th>2</th>\n",
       "      <td>-1001124109395</td>\n",
       "      <td>Філіал КМЦ</td>\n",
       "      <td>Group</td>\n",
       "      <td>{'user_id': 644106926, 'first_name': 'Аня', 'l...</td>\n",
       "    </tr>\n",
       "    <tr>\n",
       "      <th>3</th>\n",
       "      <td>-1001124109395</td>\n",
       "      <td>Філіал КМЦ</td>\n",
       "      <td>Group</td>\n",
       "      <td>{'user_id': 463403147, 'first_name': 'Максим',...</td>\n",
       "    </tr>\n",
       "    <tr>\n",
       "      <th>4</th>\n",
       "      <td>-1001124109395</td>\n",
       "      <td>Філіал КМЦ</td>\n",
       "      <td>Group</td>\n",
       "      <td>{'user_id': 878894529, 'first_name': 'Ivan', '...</td>\n",
       "    </tr>\n",
       "    <tr>\n",
       "      <th>5</th>\n",
       "      <td>-1001124109395</td>\n",
       "      <td>Філіал КМЦ</td>\n",
       "      <td>Group</td>\n",
       "      <td>{'user_id': 380133204, 'first_name': 'Pavlo Ya...</td>\n",
       "    </tr>\n",
       "    <tr>\n",
       "      <th>6</th>\n",
       "      <td>-1001124109395</td>\n",
       "      <td>Філіал КМЦ</td>\n",
       "      <td>Group</td>\n",
       "      <td>{'user_id': 694004489, 'first_name': 'Валера',...</td>\n",
       "    </tr>\n",
       "    <tr>\n",
       "      <th>7</th>\n",
       "      <td>-1001124109395</td>\n",
       "      <td>Філіал КМЦ</td>\n",
       "      <td>Group</td>\n",
       "      <td>{'user_id': 255144521, 'first_name': 'Oleg', '...</td>\n",
       "    </tr>\n",
       "    <tr>\n",
       "      <th>8</th>\n",
       "      <td>-1001124109395</td>\n",
       "      <td>Філіал КМЦ</td>\n",
       "      <td>Group</td>\n",
       "      <td>{'user_id': 5223568697, 'first_name': 'Ariya🔆'...</td>\n",
       "    </tr>\n",
       "    <tr>\n",
       "      <th>9</th>\n",
       "      <td>-1001124109395</td>\n",
       "      <td>Філіал КМЦ</td>\n",
       "      <td>Group</td>\n",
       "      <td>{'user_id': 1347119114, 'first_name': 'Богдан'...</td>\n",
       "    </tr>\n",
       "  </tbody>\n",
       "</table>\n",
       "</div>"
      ],
      "text/plain": [
       "       dialog_id        name   type  \\\n",
       "0 -1001124109395  Філіал КМЦ  Group   \n",
       "1 -1001124109395  Філіал КМЦ  Group   \n",
       "2 -1001124109395  Філіал КМЦ  Group   \n",
       "3 -1001124109395  Філіал КМЦ  Group   \n",
       "4 -1001124109395  Філіал КМЦ  Group   \n",
       "5 -1001124109395  Філіал КМЦ  Group   \n",
       "6 -1001124109395  Філіал КМЦ  Group   \n",
       "7 -1001124109395  Філіал КМЦ  Group   \n",
       "8 -1001124109395  Філіал КМЦ  Group   \n",
       "9 -1001124109395  Філіал КМЦ  Group   \n",
       "\n",
       "                                               users  \n",
       "0  {'user_id': 426175316, 'first_name': 'а̑̈', 'l...  \n",
       "1  {'user_id': 375847882, 'first_name': 'RatHive'...  \n",
       "2  {'user_id': 644106926, 'first_name': 'Аня', 'l...  \n",
       "3  {'user_id': 463403147, 'first_name': 'Максим',...  \n",
       "4  {'user_id': 878894529, 'first_name': 'Ivan', '...  \n",
       "5  {'user_id': 380133204, 'first_name': 'Pavlo Ya...  \n",
       "6  {'user_id': 694004489, 'first_name': 'Валера',...  \n",
       "7  {'user_id': 255144521, 'first_name': 'Oleg', '...  \n",
       "8  {'user_id': 5223568697, 'first_name': 'Ariya🔆'...  \n",
       "9  {'user_id': 1347119114, 'first_name': 'Богдан'...  "
      ]
     },
     "execution_count": 16,
     "metadata": {},
     "output_type": "execute_result"
    }
   ],
   "source": [
    "df_meta.head(10)"
   ]
  },
  {
   "cell_type": "code",
   "execution_count": 17,
   "id": "186f2f67",
   "metadata": {},
   "outputs": [
    {
     "data": {
      "text/plain": [
       "type\n",
       "Group             8150\n",
       "Private dialog      61\n",
       "Name: type, dtype: int64"
      ]
     },
     "execution_count": 17,
     "metadata": {},
     "output_type": "execute_result"
    }
   ],
   "source": [
    "df_meta.groupby([\"type\"])[\"type\"].count()"
   ]
  },
  {
   "cell_type": "code",
   "execution_count": null,
   "id": "36bc5268",
   "metadata": {},
   "outputs": [],
   "source": []
  }
 ],
 "metadata": {
  "kernelspec": {
   "display_name": "Python 3 (ipykernel)",
   "language": "python",
   "name": "python3"
  },
  "language_info": {
   "codemirror_mode": {
    "name": "ipython",
    "version": 3
   },
   "file_extension": ".py",
   "mimetype": "text/x-python",
   "name": "python",
   "nbconvert_exporter": "python",
   "pygments_lexer": "ipython3",
   "version": "3.10.4"
  }
 },
 "nbformat": 4,
 "nbformat_minor": 5
}
